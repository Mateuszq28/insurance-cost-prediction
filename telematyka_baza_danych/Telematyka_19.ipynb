{
  "cells": [
    {
      "cell_type": "code",
      "execution_count": 19,
      "metadata": {
        "id": "Ym3DURcxei_H"
      },
      "outputs": [],
      "source": [
        "import pandas as pd\n",
        "import numpy as np\n",
        "from sklearn.preprocessing import MinMaxScaler\n",
        "from sklearn.model_selection import train_test_split\n",
        "from sklearn.linear_model import LinearRegression\n",
        "from sklearn.preprocessing import PolynomialFeatures\n",
        "from sklearn.tree import DecisionTreeRegressor\n",
        "from sklearn.ensemble import RandomForestRegressor\n",
        "from sklearn.metrics import mean_squared_error, mean_absolute_error\n",
        "import matplotlib.pyplot as plt"
      ]
    },
    {
      "cell_type": "code",
      "execution_count": 20,
      "metadata": {
        "colab": {
          "base_uri": "https://localhost:8080/",
          "height": 424
        },
        "id": "9ncQZKiSc8Qe",
        "outputId": "91979050-4ab8-4b47-828a-57a5f9ba1528"
      },
      "outputs": [
        {
          "data": {
            "text/html": [
              "<div>\n",
              "<style scoped>\n",
              "    .dataframe tbody tr th:only-of-type {\n",
              "        vertical-align: middle;\n",
              "    }\n",
              "\n",
              "    .dataframe tbody tr th {\n",
              "        vertical-align: top;\n",
              "    }\n",
              "\n",
              "    .dataframe thead th {\n",
              "        text-align: right;\n",
              "    }\n",
              "</style>\n",
              "<table border=\"1\" class=\"dataframe\">\n",
              "  <thead>\n",
              "    <tr style=\"text-align: right;\">\n",
              "      <th></th>\n",
              "      <th>age</th>\n",
              "      <th>sex</th>\n",
              "      <th>bmi</th>\n",
              "      <th>children</th>\n",
              "      <th>smoker</th>\n",
              "      <th>region</th>\n",
              "      <th>charges</th>\n",
              "    </tr>\n",
              "  </thead>\n",
              "  <tbody>\n",
              "    <tr>\n",
              "      <th>0</th>\n",
              "      <td>19</td>\n",
              "      <td>female</td>\n",
              "      <td>27.900</td>\n",
              "      <td>0</td>\n",
              "      <td>yes</td>\n",
              "      <td>southwest</td>\n",
              "      <td>16884.92400</td>\n",
              "    </tr>\n",
              "    <tr>\n",
              "      <th>1</th>\n",
              "      <td>18</td>\n",
              "      <td>male</td>\n",
              "      <td>33.770</td>\n",
              "      <td>1</td>\n",
              "      <td>no</td>\n",
              "      <td>southeast</td>\n",
              "      <td>1725.55230</td>\n",
              "    </tr>\n",
              "    <tr>\n",
              "      <th>2</th>\n",
              "      <td>28</td>\n",
              "      <td>male</td>\n",
              "      <td>33.000</td>\n",
              "      <td>3</td>\n",
              "      <td>no</td>\n",
              "      <td>southeast</td>\n",
              "      <td>4449.46200</td>\n",
              "    </tr>\n",
              "    <tr>\n",
              "      <th>3</th>\n",
              "      <td>33</td>\n",
              "      <td>male</td>\n",
              "      <td>22.705</td>\n",
              "      <td>0</td>\n",
              "      <td>no</td>\n",
              "      <td>northwest</td>\n",
              "      <td>21984.47061</td>\n",
              "    </tr>\n",
              "    <tr>\n",
              "      <th>4</th>\n",
              "      <td>32</td>\n",
              "      <td>male</td>\n",
              "      <td>28.880</td>\n",
              "      <td>0</td>\n",
              "      <td>no</td>\n",
              "      <td>northwest</td>\n",
              "      <td>3866.85520</td>\n",
              "    </tr>\n",
              "    <tr>\n",
              "      <th>...</th>\n",
              "      <td>...</td>\n",
              "      <td>...</td>\n",
              "      <td>...</td>\n",
              "      <td>...</td>\n",
              "      <td>...</td>\n",
              "      <td>...</td>\n",
              "      <td>...</td>\n",
              "    </tr>\n",
              "    <tr>\n",
              "      <th>1333</th>\n",
              "      <td>50</td>\n",
              "      <td>male</td>\n",
              "      <td>30.970</td>\n",
              "      <td>3</td>\n",
              "      <td>no</td>\n",
              "      <td>northwest</td>\n",
              "      <td>10600.54830</td>\n",
              "    </tr>\n",
              "    <tr>\n",
              "      <th>1334</th>\n",
              "      <td>18</td>\n",
              "      <td>female</td>\n",
              "      <td>31.920</td>\n",
              "      <td>0</td>\n",
              "      <td>no</td>\n",
              "      <td>northeast</td>\n",
              "      <td>2205.98080</td>\n",
              "    </tr>\n",
              "    <tr>\n",
              "      <th>1335</th>\n",
              "      <td>18</td>\n",
              "      <td>female</td>\n",
              "      <td>36.850</td>\n",
              "      <td>0</td>\n",
              "      <td>no</td>\n",
              "      <td>southeast</td>\n",
              "      <td>1629.83350</td>\n",
              "    </tr>\n",
              "    <tr>\n",
              "      <th>1336</th>\n",
              "      <td>21</td>\n",
              "      <td>female</td>\n",
              "      <td>25.800</td>\n",
              "      <td>0</td>\n",
              "      <td>no</td>\n",
              "      <td>southwest</td>\n",
              "      <td>2007.94500</td>\n",
              "    </tr>\n",
              "    <tr>\n",
              "      <th>1337</th>\n",
              "      <td>61</td>\n",
              "      <td>female</td>\n",
              "      <td>29.070</td>\n",
              "      <td>0</td>\n",
              "      <td>yes</td>\n",
              "      <td>northwest</td>\n",
              "      <td>29141.36030</td>\n",
              "    </tr>\n",
              "  </tbody>\n",
              "</table>\n",
              "<p>1338 rows × 7 columns</p>\n",
              "</div>"
            ],
            "text/plain": [
              "      age     sex     bmi  children smoker     region      charges\n",
              "0      19  female  27.900         0    yes  southwest  16884.92400\n",
              "1      18    male  33.770         1     no  southeast   1725.55230\n",
              "2      28    male  33.000         3     no  southeast   4449.46200\n",
              "3      33    male  22.705         0     no  northwest  21984.47061\n",
              "4      32    male  28.880         0     no  northwest   3866.85520\n",
              "...   ...     ...     ...       ...    ...        ...          ...\n",
              "1333   50    male  30.970         3     no  northwest  10600.54830\n",
              "1334   18  female  31.920         0     no  northeast   2205.98080\n",
              "1335   18  female  36.850         0     no  southeast   1629.83350\n",
              "1336   21  female  25.800         0     no  southwest   2007.94500\n",
              "1337   61  female  29.070         0    yes  northwest  29141.36030\n",
              "\n",
              "[1338 rows x 7 columns]"
            ]
          },
          "execution_count": 20,
          "metadata": {},
          "output_type": "execute_result"
        }
      ],
      "source": [
        "df = pd.read_csv('insurance.csv')\n",
        "df"
      ]
    },
    {
      "cell_type": "code",
      "execution_count": 21,
      "metadata": {
        "id": "9kxk-7GffJtW"
      },
      "outputs": [],
      "source": [
        "df['sex'] = df['sex'].map({'male': 0, 'female': 1})\n",
        "df['smoker'] = df['smoker'].map({'no': 0, 'yes': 1})\n",
        "df['region_north'] = df['region'].map({'southwest': 0, 'southeast': 0, 'northwest': 1, 'northeast': 1})\n",
        "df['region_east'] = df['region'].map({'southwest': 0, 'northwest': 0, 'southeast': 1, 'northeast': 1})\n",
        "df.drop(columns=['region'], inplace=True)\n",
        "\n",
        "X = df.drop(columns=['charges'])\n",
        "Y = df['charges']"
      ]
    },
    {
      "cell_type": "code",
      "execution_count": 34,
      "metadata": {
        "id": "CJY1FnRqgYHt"
      },
      "outputs": [
        {
          "name": "stdout",
          "output_type": "stream",
          "text": [
            "test sample: [51.   1.  20.6  0.   0.   0.   0. ]\n"
          ]
        }
      ],
      "source": [
        "X_train, X_test, Y_train, Y_test = train_test_split(X, Y, test_size=0.2, random_state=37)\n",
        "\n",
        "X_train = X_train.values\n",
        "X_test = X_test.values\n",
        "Y_train = Y_train.values\n",
        "Y_test = Y_test.values\n",
        "print('test sample:', X_test[0])\n",
        "\n",
        "sc = MinMaxScaler()\n",
        "X_train = sc.fit_transform(X_train)\n",
        "X_test = sc.transform(X_test)"
      ]
    },
    {
      "cell_type": "code",
      "execution_count": 23,
      "metadata": {
        "id": "MrA5t1SWlPuG"
      },
      "outputs": [],
      "source": [
        "reg = LinearRegression().fit(X_train, Y_train)\n",
        "Y_est = reg.predict(X_test)\n",
        "\n",
        "reg_str = reg.score(X_train, Y_train)\n",
        "reg_ste = reg.score(X_test, Y_test)\n",
        "reg_mse = mean_squared_error(Y_test, Y_est)\n",
        "reg_mae = mean_absolute_error(Y_test, Y_est)"
      ]
    },
    {
      "cell_type": "code",
      "execution_count": 24,
      "metadata": {
        "id": "XQDf0MhGn5RA"
      },
      "outputs": [],
      "source": [
        "poly = PolynomialFeatures(degree=2, include_bias=False)\n",
        "poly_features = poly.fit_transform(X_train)\n",
        "poly_features_test = poly.transform(X_test)\n",
        "\n",
        "poly_reg = LinearRegression().fit(poly_features, Y_train)\n",
        "Y_est = poly_reg.predict(poly_features_test)\n",
        "\n",
        "poly_reg_str = poly_reg.score(poly_features, Y_train)\n",
        "poly_reg_ste = poly_reg.score(poly_features_test, Y_test)\n",
        "poly_reg_mse = mean_squared_error(Y_test, Y_est)\n",
        "poly_reg_mae = mean_absolute_error(Y_test, Y_est)"
      ]
    },
    {
      "cell_type": "code",
      "execution_count": 25,
      "metadata": {
        "id": "KrcMsE2Sr2rD"
      },
      "outputs": [],
      "source": [
        "treeRegressor = DecisionTreeRegressor(random_state=37).fit(X_train, Y_train)\n",
        "Y_est = treeRegressor.predict(X_test)\n",
        "\n",
        "tree_str = treeRegressor.score(X_train, Y_train)\n",
        "tree_ste = treeRegressor.score(X_test, Y_test)\n",
        "tree_mse = mean_squared_error(Y_test, Y_est)\n",
        "tree_mae = mean_absolute_error(Y_test, Y_est)"
      ]
    },
    {
      "cell_type": "code",
      "execution_count": 26,
      "metadata": {
        "id": "ux49hM1SsbSq"
      },
      "outputs": [],
      "source": [
        "forestRegressor = RandomForestRegressor(max_depth=5, random_state=37).fit(X_train, Y_train)\n",
        "Y_est = forestRegressor.predict(X_test)\n",
        "\n",
        "forest_str = forestRegressor.score(X_train, Y_train)\n",
        "forest_ste = forestRegressor.score(X_test, Y_test)\n",
        "forest_mse = mean_squared_error(Y_test, Y_est)\n",
        "forest_mae = mean_absolute_error(Y_test, Y_est)"
      ]
    },
    {
      "cell_type": "code",
      "execution_count": 27,
      "metadata": {
        "colab": {
          "base_uri": "https://localhost:8080/",
          "height": 350
        },
        "id": "qd_IUixyfN7u",
        "outputId": "83bca768-ede7-40a0-9171-2bc0b29aafbf"
      },
      "outputs": [
        {
          "data": {
            "image/png": "[encoded data removed]",
            "text/plain": [
              "<Figure size 432x288 with 1 Axes>"
            ]
          },
          "metadata": {
            "needs_background": "light"
          },
          "output_type": "display_data"
        },
        {
          "name": "stdout",
          "output_type": "stream",
          "text": [
            "Linear\t- 0.7564442316444236\n",
            "Poly\t- 0.8491634068446094\n",
            "Tree\t- 0.9988847057434221\n",
            "Forest\t- 0.8948410479202225\n"
          ]
        }
      ],
      "source": [
        "bars = ('Linear', 'Poly', 'Tree', 'Forest')\n",
        "y_pos = np.arange(len(bars))\n",
        "\n",
        "values = [reg_str, poly_reg_str, tree_str, forest_str]\n",
        "plt.bar(y_pos, values)\n",
        "plt.xticks(y_pos, bars)\n",
        "plt.title(\"Regression - score on training set\")\n",
        "plt.show()\n",
        "\n",
        "for i in range(0,4):\n",
        "  print(str(bars[i]) + \"\\t- \" + str(values[i]))"
      ]
    },
    {
      "cell_type": "code",
      "execution_count": 28,
      "metadata": {
        "colab": {
          "base_uri": "https://localhost:8080/",
          "height": 350
        },
        "id": "mIM3A-YkxzuB",
        "outputId": "2ad8ff5f-2106-46a6-943d-9f4483409245"
      },
      "outputs": [
        {
          "data": {
            "image/png": "[encoded data removed]",
            "text/plain": [
              "<Figure size 432x288 with 1 Axes>"
            ]
          },
          "metadata": {
            "needs_background": "light"
          },
          "output_type": "display_data"
        },
        {
          "name": "stdout",
          "output_type": "stream",
          "text": [
            "Linear\t- 0.716762211137892\n",
            "Poly\t- 0.8250608350961726\n",
            "Tree\t- 0.761724544426714\n",
            "Forest\t- 0.843816105198895\n"
          ]
        }
      ],
      "source": [
        "values = [reg_ste, poly_reg_ste, tree_ste, forest_ste]\n",
        "plt.bar(y_pos, values)\n",
        "plt.xticks(y_pos, bars)\n",
        "plt.title(\"Regression - score on testing set\")\n",
        "plt.show()\n",
        "\n",
        "for i in range(0,4):\n",
        "  print(str(bars[i]) + \"\\t- \" + str(values[i]))"
      ]
    },
    {
      "cell_type": "code",
      "execution_count": 29,
      "metadata": {
        "colab": {
          "base_uri": "https://localhost:8080/",
          "height": 350
        },
        "id": "9LhglFP1yuMP",
        "outputId": "8a015b6d-1e4e-4538-baa6-7df891645f84"
      },
      "outputs": [
        {
          "data": {
            "image/png": "[encoded data removed]",
            "text/plain": [
              "<Figure size 432x288 with 1 Axes>"
            ]
          },
          "metadata": {
            "needs_background": "light"
          },
          "output_type": "display_data"
        },
        {
          "name": "stdout",
          "output_type": "stream",
          "text": [
            "Linear\t- 33447093.51745728\n",
            "Poly\t- 20658283.740708087\n",
            "Tree\t- 28137564.120564345\n",
            "Forest\t- 18443504.153594688\n"
          ]
        }
      ],
      "source": [
        "values = [reg_mse, poly_reg_mse, tree_mse, forest_mse]\n",
        "plt.bar(y_pos, values)\n",
        "plt.xticks(y_pos, bars)\n",
        "plt.title(\"Regression - MSE on testing set\")\n",
        "plt.show()\n",
        "\n",
        "for i in range(0,4):\n",
        "  print(str(bars[i]) + \"\\t- \" + str(values[i]))"
      ]
    },
    {
      "cell_type": "code",
      "execution_count": 30,
      "metadata": {
        "colab": {
          "base_uri": "https://localhost:8080/",
          "height": 350
        },
        "id": "VsRIOWEUyuuX",
        "outputId": "3acd810a-6e99-412a-9a94-726baa18a730"
      },
      "outputs": [
        {
          "data": {
            "image/png": "[encoded data removed]",
            "text/plain": [
              "<Figure size 432x288 with 1 Axes>"
            ]
          },
          "metadata": {
            "needs_background": "light"
          },
          "output_type": "display_data"
        },
        {
          "name": "stdout",
          "output_type": "stream",
          "text": [
            "Linear\t- 4088.363964685509\n",
            "Poly\t- 2786.6326711434062\n",
            "Tree\t- 2276.8652235820896\n",
            "Forest\t- 2396.9706034443902\n"
          ]
        }
      ],
      "source": [
        "values = [reg_mae, poly_reg_mae, tree_mae, forest_mae]\n",
        "plt.bar(y_pos, values)\n",
        "plt.xticks(y_pos, bars)\n",
        "plt.title(\"Regression - MAE on testing set\")\n",
        "plt.show()\n",
        "\n",
        "for i in range(0,4):\n",
        "  print(str(bars[i]) + \"\\t- \" + str(values[i]))"
      ]
    },
    {
      "cell_type": "markdown",
      "metadata": {
        "id": "5OcxSyO7ZCAi"
      },
      "source": [
        "## Model"
      ]
    },
    {
      "cell_type": "code",
      "execution_count": 31,
      "metadata": {
        "colab": {
          "base_uri": "https://localhost:8080/"
        },
        "id": "WRVCWLPRV5p5",
        "outputId": "bfcfc920-e0a7-4976-ccd9-f3552e41d0a2"
      },
      "outputs": [
        {
          "data": {
            "text/plain": [
              "['scaler']"
            ]
          },
          "execution_count": 31,
          "metadata": {},
          "output_type": "execute_result"
        }
      ],
      "source": [
        "import joblib\n",
        "joblib.dump(forestRegressor, \"cost_predictor\")\n",
        "joblib.dump(sc, \"scaler\")"
      ]
    },
    {
      "cell_type": "markdown",
      "metadata": {
        "id": "mj4vC6UdZu4w"
      },
      "source": [
        "### Load model from file"
      ]
    },
    {
      "cell_type": "code",
      "execution_count": 32,
      "metadata": {
        "id": "w_1UpUYUZJx7"
      },
      "outputs": [],
      "source": [
        "model = joblib.load(\"cost_predictor\")\n",
        "sc = joblib.load(\"scaler\")"
      ]
    }
  ],
  "metadata": {
    "colab": {
      "collapsed_sections": [],
      "name": "Telematyka_19.ipynb",
      "provenance": []
    },
    "interpreter": {
      "hash": "72acf9c33c53b388d0215582b7e6f7a0a474a25a50c7a9c549dcf1b19c0b8772"
    },
    "kernelspec": {
      "display_name": "Python 3.8.11 ('opencv')",
      "language": "python",
      "name": "python3"
    },
    "language_info": {
      "codemirror_mode": {
        "name": "ipython",
        "version": 3
      },
      "file_extension": ".py",
      "mimetype": "text/x-python",
      "name": "python",
      "nbconvert_exporter": "python",
      "pygments_lexer": "ipython3",
      "version": "3.8.11"
    }
  },
  "nbformat": 4,
  "nbformat_minor": 0
}
